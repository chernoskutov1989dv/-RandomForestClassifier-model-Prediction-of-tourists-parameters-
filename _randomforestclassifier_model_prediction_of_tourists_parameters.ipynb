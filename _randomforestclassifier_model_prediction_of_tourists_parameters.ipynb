{
  "nbformat": 4,
  "nbformat_minor": 0,
  "metadata": {
    "colab": {
      "provenance": [],
      "collapsed_sections": [],
      "authorship_tag": "ABX9TyM9k41EEFxVJ694d7n2QDSQ",
      "include_colab_link": true
    },
    "kernelspec": {
      "name": "python3",
      "display_name": "Python 3"
    },
    "language_info": {
      "name": "python"
    }
  },
  "cells": [
    {
      "cell_type": "markdown",
      "metadata": {
        "id": "view-in-github",
        "colab_type": "text"
      },
      "source": [
        "<a href=\"https://colab.research.google.com/github/chernoskutov1989dv/-RandomForestClassifier-model-Prediction-of-tourists-parameters-/blob/main/_randomforestclassifier_model_prediction_of_tourists_parameters.ipynb\" target=\"_parent\"><img src=\"https://colab.research.google.com/assets/colab-badge.svg\" alt=\"Open In Colab\"/></a>"
      ]
    },
    {
      "cell_type": "code",
      "execution_count": null,
      "metadata": {
        "id": "o13EZ3t2gHGx"
      },
      "outputs": [],
      "source": [
        "import pandas as pd"
      ]
    },
    {
      "cell_type": "code",
      "source": [
        "df = pd.read_excel('trips_data_for_ML.xlsx', index_col = 0)\n",
        "df.head()\n"
      ],
      "metadata": {
        "colab": {
          "base_uri": "https://localhost:8080/",
          "height": 352
        },
        "id": "Zw50ow7pgNj7",
        "outputId": "6053201d-1953-4557-a16c-3e2b5ab2cade"
      },
      "execution_count": null,
      "outputs": [
        {
          "output_type": "execute_result",
          "data": {
            "text/plain": [
              "   salary  age  family_members    target  city_Екатеринбург  city_Киев  \\\n",
              "0  196000   25               1  New York                  0          0   \n",
              "1  152000   60               1    London                  1          0   \n",
              "2   83000   49               2    Sydney                  0          0   \n",
              "3  161000   41               0  New York                  0          0   \n",
              "4  146000   58               1    Sydney                  0          0   \n",
              "\n",
              "   city_Краснодар  city_Минск  city_Москва  city_Новосибирск  ...  \\\n",
              "0               1           0            0                 0  ...   \n",
              "1               0           0            0                 0  ...   \n",
              "2               0           0            0                 0  ...   \n",
              "3               1           0            0                 0  ...   \n",
              "4               1           0            0                 0  ...   \n",
              "\n",
              "   city_Ярославль  vacation_preference_Архитектура  \\\n",
              "0               0                                0   \n",
              "1               0                                1   \n",
              "2               0                                1   \n",
              "3               0                                0   \n",
              "4               0                                1   \n",
              "\n",
              "   vacation_preference_Ночные клубы  vacation_preference_Пляжный отдых  \\\n",
              "0                                 0                                  0   \n",
              "1                                 0                                  0   \n",
              "2                                 0                                  0   \n",
              "3                                 0                                  0   \n",
              "4                                 0                                  0   \n",
              "\n",
              "   vacation_preference_Шоппинг  transport_preference_Автомобиль  \\\n",
              "0                            1                                1   \n",
              "1                            0                                0   \n",
              "2                            0                                1   \n",
              "3                            1                                1   \n",
              "4                            0                                0   \n",
              "\n",
              "   transport_preference_Космический корабль  \\\n",
              "0                                         0   \n",
              "1                                         0   \n",
              "2                                         0   \n",
              "3                                         0   \n",
              "4                                         0   \n",
              "\n",
              "   transport_preference_Морской транспорт  transport_preference_Поезд  \\\n",
              "0                                       0                           0   \n",
              "1                                       0                           0   \n",
              "2                                       0                           0   \n",
              "3                                       0                           0   \n",
              "4                                       0                           0   \n",
              "\n",
              "   transport_preference_Самолет  \n",
              "0                             0  \n",
              "1                             1  \n",
              "2                             0  \n",
              "3                             0  \n",
              "4                             1  \n",
              "\n",
              "[5 rows x 24 columns]"
            ],
            "text/html": [
              "\n",
              "  <div id=\"df-c708044a-1d7c-48b1-b682-9d295f046194\">\n",
              "    <div class=\"colab-df-container\">\n",
              "      <div>\n",
              "<style scoped>\n",
              "    .dataframe tbody tr th:only-of-type {\n",
              "        vertical-align: middle;\n",
              "    }\n",
              "\n",
              "    .dataframe tbody tr th {\n",
              "        vertical-align: top;\n",
              "    }\n",
              "\n",
              "    .dataframe thead th {\n",
              "        text-align: right;\n",
              "    }\n",
              "</style>\n",
              "<table border=\"1\" class=\"dataframe\">\n",
              "  <thead>\n",
              "    <tr style=\"text-align: right;\">\n",
              "      <th></th>\n",
              "      <th>salary</th>\n",
              "      <th>age</th>\n",
              "      <th>family_members</th>\n",
              "      <th>target</th>\n",
              "      <th>city_Екатеринбург</th>\n",
              "      <th>city_Киев</th>\n",
              "      <th>city_Краснодар</th>\n",
              "      <th>city_Минск</th>\n",
              "      <th>city_Москва</th>\n",
              "      <th>city_Новосибирск</th>\n",
              "      <th>...</th>\n",
              "      <th>city_Ярославль</th>\n",
              "      <th>vacation_preference_Архитектура</th>\n",
              "      <th>vacation_preference_Ночные клубы</th>\n",
              "      <th>vacation_preference_Пляжный отдых</th>\n",
              "      <th>vacation_preference_Шоппинг</th>\n",
              "      <th>transport_preference_Автомобиль</th>\n",
              "      <th>transport_preference_Космический корабль</th>\n",
              "      <th>transport_preference_Морской транспорт</th>\n",
              "      <th>transport_preference_Поезд</th>\n",
              "      <th>transport_preference_Самолет</th>\n",
              "    </tr>\n",
              "  </thead>\n",
              "  <tbody>\n",
              "    <tr>\n",
              "      <th>0</th>\n",
              "      <td>196000</td>\n",
              "      <td>25</td>\n",
              "      <td>1</td>\n",
              "      <td>New York</td>\n",
              "      <td>0</td>\n",
              "      <td>0</td>\n",
              "      <td>1</td>\n",
              "      <td>0</td>\n",
              "      <td>0</td>\n",
              "      <td>0</td>\n",
              "      <td>...</td>\n",
              "      <td>0</td>\n",
              "      <td>0</td>\n",
              "      <td>0</td>\n",
              "      <td>0</td>\n",
              "      <td>1</td>\n",
              "      <td>1</td>\n",
              "      <td>0</td>\n",
              "      <td>0</td>\n",
              "      <td>0</td>\n",
              "      <td>0</td>\n",
              "    </tr>\n",
              "    <tr>\n",
              "      <th>1</th>\n",
              "      <td>152000</td>\n",
              "      <td>60</td>\n",
              "      <td>1</td>\n",
              "      <td>London</td>\n",
              "      <td>1</td>\n",
              "      <td>0</td>\n",
              "      <td>0</td>\n",
              "      <td>0</td>\n",
              "      <td>0</td>\n",
              "      <td>0</td>\n",
              "      <td>...</td>\n",
              "      <td>0</td>\n",
              "      <td>1</td>\n",
              "      <td>0</td>\n",
              "      <td>0</td>\n",
              "      <td>0</td>\n",
              "      <td>0</td>\n",
              "      <td>0</td>\n",
              "      <td>0</td>\n",
              "      <td>0</td>\n",
              "      <td>1</td>\n",
              "    </tr>\n",
              "    <tr>\n",
              "      <th>2</th>\n",
              "      <td>83000</td>\n",
              "      <td>49</td>\n",
              "      <td>2</td>\n",
              "      <td>Sydney</td>\n",
              "      <td>0</td>\n",
              "      <td>0</td>\n",
              "      <td>0</td>\n",
              "      <td>0</td>\n",
              "      <td>0</td>\n",
              "      <td>0</td>\n",
              "      <td>...</td>\n",
              "      <td>0</td>\n",
              "      <td>1</td>\n",
              "      <td>0</td>\n",
              "      <td>0</td>\n",
              "      <td>0</td>\n",
              "      <td>1</td>\n",
              "      <td>0</td>\n",
              "      <td>0</td>\n",
              "      <td>0</td>\n",
              "      <td>0</td>\n",
              "    </tr>\n",
              "    <tr>\n",
              "      <th>3</th>\n",
              "      <td>161000</td>\n",
              "      <td>41</td>\n",
              "      <td>0</td>\n",
              "      <td>New York</td>\n",
              "      <td>0</td>\n",
              "      <td>0</td>\n",
              "      <td>1</td>\n",
              "      <td>0</td>\n",
              "      <td>0</td>\n",
              "      <td>0</td>\n",
              "      <td>...</td>\n",
              "      <td>0</td>\n",
              "      <td>0</td>\n",
              "      <td>0</td>\n",
              "      <td>0</td>\n",
              "      <td>1</td>\n",
              "      <td>1</td>\n",
              "      <td>0</td>\n",
              "      <td>0</td>\n",
              "      <td>0</td>\n",
              "      <td>0</td>\n",
              "    </tr>\n",
              "    <tr>\n",
              "      <th>4</th>\n",
              "      <td>146000</td>\n",
              "      <td>58</td>\n",
              "      <td>1</td>\n",
              "      <td>Sydney</td>\n",
              "      <td>0</td>\n",
              "      <td>0</td>\n",
              "      <td>1</td>\n",
              "      <td>0</td>\n",
              "      <td>0</td>\n",
              "      <td>0</td>\n",
              "      <td>...</td>\n",
              "      <td>0</td>\n",
              "      <td>1</td>\n",
              "      <td>0</td>\n",
              "      <td>0</td>\n",
              "      <td>0</td>\n",
              "      <td>0</td>\n",
              "      <td>0</td>\n",
              "      <td>0</td>\n",
              "      <td>0</td>\n",
              "      <td>1</td>\n",
              "    </tr>\n",
              "  </tbody>\n",
              "</table>\n",
              "<p>5 rows × 24 columns</p>\n",
              "</div>\n",
              "      <button class=\"colab-df-convert\" onclick=\"convertToInteractive('df-c708044a-1d7c-48b1-b682-9d295f046194')\"\n",
              "              title=\"Convert this dataframe to an interactive table.\"\n",
              "              style=\"display:none;\">\n",
              "        \n",
              "  <svg xmlns=\"http://www.w3.org/2000/svg\" height=\"24px\"viewBox=\"0 0 24 24\"\n",
              "       width=\"24px\">\n",
              "    <path d=\"M0 0h24v24H0V0z\" fill=\"none\"/>\n",
              "    <path d=\"M18.56 5.44l.94 2.06.94-2.06 2.06-.94-2.06-.94-.94-2.06-.94 2.06-2.06.94zm-11 1L8.5 8.5l.94-2.06 2.06-.94-2.06-.94L8.5 2.5l-.94 2.06-2.06.94zm10 10l.94 2.06.94-2.06 2.06-.94-2.06-.94-.94-2.06-.94 2.06-2.06.94z\"/><path d=\"M17.41 7.96l-1.37-1.37c-.4-.4-.92-.59-1.43-.59-.52 0-1.04.2-1.43.59L10.3 9.45l-7.72 7.72c-.78.78-.78 2.05 0 2.83L4 21.41c.39.39.9.59 1.41.59.51 0 1.02-.2 1.41-.59l7.78-7.78 2.81-2.81c.8-.78.8-2.07 0-2.86zM5.41 20L4 18.59l7.72-7.72 1.47 1.35L5.41 20z\"/>\n",
              "  </svg>\n",
              "      </button>\n",
              "      \n",
              "  <style>\n",
              "    .colab-df-container {\n",
              "      display:flex;\n",
              "      flex-wrap:wrap;\n",
              "      gap: 12px;\n",
              "    }\n",
              "\n",
              "    .colab-df-convert {\n",
              "      background-color: #E8F0FE;\n",
              "      border: none;\n",
              "      border-radius: 50%;\n",
              "      cursor: pointer;\n",
              "      display: none;\n",
              "      fill: #1967D2;\n",
              "      height: 32px;\n",
              "      padding: 0 0 0 0;\n",
              "      width: 32px;\n",
              "    }\n",
              "\n",
              "    .colab-df-convert:hover {\n",
              "      background-color: #E2EBFA;\n",
              "      box-shadow: 0px 1px 2px rgba(60, 64, 67, 0.3), 0px 1px 3px 1px rgba(60, 64, 67, 0.15);\n",
              "      fill: #174EA6;\n",
              "    }\n",
              "\n",
              "    [theme=dark] .colab-df-convert {\n",
              "      background-color: #3B4455;\n",
              "      fill: #D2E3FC;\n",
              "    }\n",
              "\n",
              "    [theme=dark] .colab-df-convert:hover {\n",
              "      background-color: #434B5C;\n",
              "      box-shadow: 0px 1px 3px 1px rgba(0, 0, 0, 0.15);\n",
              "      filter: drop-shadow(0px 1px 2px rgba(0, 0, 0, 0.3));\n",
              "      fill: #FFFFFF;\n",
              "    }\n",
              "  </style>\n",
              "\n",
              "      <script>\n",
              "        const buttonEl =\n",
              "          document.querySelector('#df-c708044a-1d7c-48b1-b682-9d295f046194 button.colab-df-convert');\n",
              "        buttonEl.style.display =\n",
              "          google.colab.kernel.accessAllowed ? 'block' : 'none';\n",
              "\n",
              "        async function convertToInteractive(key) {\n",
              "          const element = document.querySelector('#df-c708044a-1d7c-48b1-b682-9d295f046194');\n",
              "          const dataTable =\n",
              "            await google.colab.kernel.invokeFunction('convertToInteractive',\n",
              "                                                     [key], {});\n",
              "          if (!dataTable) return;\n",
              "\n",
              "          const docLinkHtml = 'Like what you see? Visit the ' +\n",
              "            '<a target=\"_blank\" href=https://colab.research.google.com/notebooks/data_table.ipynb>data table notebook</a>'\n",
              "            + ' to learn more about interactive tables.';\n",
              "          element.innerHTML = '';\n",
              "          dataTable['output_type'] = 'display_data';\n",
              "          await google.colab.output.renderOutput(dataTable, element);\n",
              "          const docLink = document.createElement('div');\n",
              "          docLink.innerHTML = docLinkHtml;\n",
              "          element.appendChild(docLink);\n",
              "        }\n",
              "      </script>\n",
              "    </div>\n",
              "  </div>\n",
              "  "
            ]
          },
          "metadata": {},
          "execution_count": 2
        }
      ]
    },
    {
      "cell_type": "code",
      "source": [
        "X = df.drop('target', axis = 1)\n",
        "y = df['target']\n"
      ],
      "metadata": {
        "id": "aMeV0bBbgYiE"
      },
      "execution_count": null,
      "outputs": []
    },
    {
      "cell_type": "code",
      "source": [
        "\n",
        "from sklearn.ensemble import RandomForestClassifier "
      ],
      "metadata": {
        "id": "rT2dMdTjge8r"
      },
      "execution_count": null,
      "outputs": []
    },
    {
      "cell_type": "code",
      "source": [
        "model = RandomForestClassifier()\n"
      ],
      "metadata": {
        "id": "i9Z6ro3NgiG5"
      },
      "execution_count": null,
      "outputs": []
    },
    {
      "cell_type": "code",
      "source": [
        "model.fit(X, y)"
      ],
      "metadata": {
        "colab": {
          "base_uri": "https://localhost:8080/"
        },
        "id": "qJCHdGQAg_sZ",
        "outputId": "6902e452-8bde-46c4-df3a-862dfd923fcf"
      },
      "execution_count": null,
      "outputs": [
        {
          "output_type": "execute_result",
          "data": {
            "text/plain": [
              "RandomForestClassifier()"
            ]
          },
          "metadata": {},
          "execution_count": 6
        }
      ]
    },
    {
      "cell_type": "code",
      "source": [
        "example = {'age': [20],\n",
        " 'city_Екатеринбург': [0],\n",
        " 'city_Киев': [0],\n",
        " 'city_Краснодар': [0],\n",
        " 'city_Минск': [0],\n",
        " 'city_Москва': [0],\n",
        " 'city_Новосибирск': [1],\n",
        " 'city_Омск': [0],\n",
        " 'city_Петербург': [0],\n",
        " 'city_Томск': [0],\n",
        " 'city_Хабаровск': [0],\n",
        " 'city_Ярославль': [0],\n",
        " 'family_members': [0],\n",
        " 'salary': [150000],\n",
        " 'transport_preference_Автомобиль': [1],\n",
        " 'transport_preference_Космический корабль': [0],\n",
        " 'transport_preference_Морской транспорт': [0],\n",
        " 'transport_preference_Поезд': [0],\n",
        " 'transport_preference_Самолет': [0],\n",
        " 'vacation_preference_Архитектура': [0],\n",
        " 'vacation_preference_Ночные клубы': [1],\n",
        " 'vacation_preference_Пляжный отдых': [0],\n",
        " 'vacation_preference_Шопинг': [0]}\n",
        "\n"
      ],
      "metadata": {
        "id": "I5lSyG_1gleI"
      },
      "execution_count": null,
      "outputs": []
    },
    {
      "cell_type": "code",
      "source": [
        "\n",
        "example_df = pd.DataFrame(example)"
      ],
      "metadata": {
        "id": "-lQdGCJ8gpiy"
      },
      "execution_count": null,
      "outputs": []
    },
    {
      "cell_type": "code",
      "source": [
        "model.predict(example_df)\n"
      ],
      "metadata": {
        "colab": {
          "base_uri": "https://localhost:8080/"
        },
        "id": "ex5dKwpxgsbq",
        "outputId": "f122a21f-49b5-46b0-e5c8-48ae103eb284"
      },
      "execution_count": null,
      "outputs": [
        {
          "output_type": "stream",
          "name": "stderr",
          "text": [
            "/usr/local/lib/python3.7/dist-packages/sklearn/base.py:493: FutureWarning: The feature names should match those that were passed during fit. Starting version 1.2, an error will be raised.\n",
            "Feature names unseen at fit time:\n",
            "- vacation_preference_Шопинг\n",
            "Feature names seen at fit time, yet now missing:\n",
            "- vacation_preference_Шоппинг\n",
            "\n",
            "  warnings.warn(message, FutureWarning)\n"
          ]
        },
        {
          "output_type": "execute_result",
          "data": {
            "text/plain": [
              "array(['Paris'], dtype=object)"
            ]
          },
          "metadata": {},
          "execution_count": 52
        }
      ]
    },
    {
      "cell_type": "markdown",
      "source": [
        "Модель предсказывает город, куда вероетнее всего поедет турист  -- Париж\n",
        "array(['Paris'], dtype=object)"
      ],
      "metadata": {
        "id": "ZmT_UGC8xaPu"
      }
    }
  ]
}